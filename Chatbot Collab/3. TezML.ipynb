{
  "nbformat": 4,
  "nbformat_minor": 0,
  "metadata": {
    "colab": {
      "name": "TezML.ipynb",
      "provenance": [],
      "collapsed_sections": [
        "MoS790538xx2",
        "UjYl0TEGqkcC"
      ],
      "toc_visible": true
    },
    "kernelspec": {
      "name": "python3",
      "display_name": "Python 3"
    },
    "language_info": {
      "name": "python"
    }
  },
  "cells": [
    {
      "cell_type": "markdown",
      "source": [
        "# 1. Makine Öğrenmesi ile Hastalık Tahmini"
      ],
      "metadata": {
        "id": "n_XMQoU0qgX-"
      }
    },
    {
      "cell_type": "markdown",
      "source": [
        "## 1.1 Gerekli kütüphanelerin ve verinin yüklenmesi"
      ],
      "metadata": {
        "id": "MoS790538xx2"
      }
    },
    {
      "cell_type": "markdown",
      "source": [
        "Hastalık tahmininde Naive Bayes modeli tercih edilmiştir. Bu modelin predict metodu için scikit-learn kütüphanesinin uygun versiyonu yüklenmiştir. "
      ],
      "metadata": {
        "id": "-phrkfja_0HS"
      }
    },
    {
      "cell_type": "code",
      "source": [
        "!pip install scikit-learn==0.24.2"
      ],
      "metadata": {
        "colab": {
          "base_uri": "https://localhost:8080/"
        },
        "id": "c7oky0WWB_Mk",
        "outputId": "9630d587-90cc-4370-d6de-2051c8e6ecba"
      },
      "execution_count": null,
      "outputs": [
        {
          "output_type": "stream",
          "name": "stdout",
          "text": [
            "Requirement already satisfied: scikit-learn==0.24.2 in /usr/local/lib/python3.7/dist-packages (0.24.2)\n",
            "Requirement already satisfied: threadpoolctl>=2.0.0 in /usr/local/lib/python3.7/dist-packages (from scikit-learn==0.24.2) (3.1.0)\n",
            "Requirement already satisfied: numpy>=1.13.3 in /usr/local/lib/python3.7/dist-packages (from scikit-learn==0.24.2) (1.21.6)\n",
            "Requirement already satisfied: joblib>=0.11 in /usr/local/lib/python3.7/dist-packages (from scikit-learn==0.24.2) (1.1.0)\n",
            "Requirement already satisfied: scipy>=0.19.1 in /usr/local/lib/python3.7/dist-packages (from scikit-learn==0.24.2) (1.4.1)\n"
          ]
        }
      ]
    },
    {
      "cell_type": "code",
      "source": [
        "import pandas as pd\n",
        "import numpy as np\n",
        "import matplotlib.pyplot as plt\n",
        "import pickle\n",
        "\n",
        "from sklearn.model_selection import train_test_split, GridSearchCV\n",
        "from sklearn.preprocessing import StandardScaler, LabelEncoder\n",
        "from sklearn.pipeline import Pipeline\n",
        "from sklearn import decomposition\n",
        "from sklearn.metrics import classification_report, confusion_matrix\n",
        "from sklearn.metrics import accuracy_score\n",
        "\n",
        "#modeller\n",
        "from sklearn.linear_model import LogisticRegression\n",
        "from sklearn.neural_network import MLPClassifier\n",
        "from sklearn.tree import DecisionTreeClassifier\n",
        "from sklearn.ensemble import RandomForestClassifier\n",
        "from sklearn.svm import SVC\n",
        "from sklearn.naive_bayes import GaussianNB\n",
        "from sklearn.neighbors import KNeighborsClassifier"
      ],
      "metadata": {
        "id": "zGmm8n0xp4fw"
      },
      "execution_count": null,
      "outputs": []
    },
    {
      "cell_type": "code",
      "source": [
        "veri_komb = pd.read_csv('veri_komb.csv', encoding='iso-8859-9', sep=\",\")\n",
        "veri_komb.set_index('hastalik').head()"
      ],
      "metadata": {
        "colab": {
          "base_uri": "https://localhost:8080/",
          "height": 366
        },
        "id": "U0KXxMV5p442",
        "outputId": "3d543cce-b7fe-4db2-eaf3-21b1a5253f05"
      },
      "execution_count": null,
      "outputs": [
        {
          "output_type": "execute_result",
          "data": {
            "text/plain": [
              "          baş ağrısı  bulanık görme  burun kanaması  düzensiz kalp ritmi  \\\n",
              "hastalik                                                                   \n",
              "addison            0              0               0                    0   \n",
              "addison            0              0               0                    0   \n",
              "addison            0              0               0                    0   \n",
              "addison            0              0               0                    0   \n",
              "addison            0              0               0                    0   \n",
              "\n",
              "          göğüs ağrısı  göğüste baskı  idrarda kan  nefes darlığı  \\\n",
              "hastalik                                                            \n",
              "addison              0              0            0              0   \n",
              "addison              0              0            0              0   \n",
              "addison              0              0            0              0   \n",
              "addison              0              0            0              0   \n",
              "addison              0              0            0              0   \n",
              "\n",
              "          ciltte kırmızlık  kaşıntı  ...  öğün atlamak  şiş boğaz  \\\n",
              "hastalik                             ...                            \n",
              "addison                  0        0  ...             0          0   \n",
              "addison                  0        0  ...             0          0   \n",
              "addison                  0        0  ...             0          0   \n",
              "addison                  0        0  ...             0          0   \n",
              "addison                  0        0  ...             0          0   \n",
              "\n",
              "          hafıza kaybı  ruh hali değişimleri  kanlı balgam  ağız içinde yumru  \\\n",
              "hastalik                                                                        \n",
              "addison              0                     0             0                  0   \n",
              "addison              0                     0             0                  0   \n",
              "addison              0                     0             0                  0   \n",
              "addison              0                     0             0                  0   \n",
              "addison              0                     0             0                  0   \n",
              "\n",
              "          ağızda uyuşma  gevşek diş  iyileşmeyen ağız yarası  koyu cilt  \n",
              "hastalik                                                                 \n",
              "addison               0           0                        0          0  \n",
              "addison               0           0                        0          0  \n",
              "addison               0           0                        0          1  \n",
              "addison               0           0                        0          0  \n",
              "addison               0           0                        0          1  \n",
              "\n",
              "[5 rows x 199 columns]"
            ],
            "text/html": [
              "\n",
              "  <div id=\"df-67c7f1dd-541f-4242-92a5-d10252cacfdf\">\n",
              "    <div class=\"colab-df-container\">\n",
              "      <div>\n",
              "<style scoped>\n",
              "    .dataframe tbody tr th:only-of-type {\n",
              "        vertical-align: middle;\n",
              "    }\n",
              "\n",
              "    .dataframe tbody tr th {\n",
              "        vertical-align: top;\n",
              "    }\n",
              "\n",
              "    .dataframe thead th {\n",
              "        text-align: right;\n",
              "    }\n",
              "</style>\n",
              "<table border=\"1\" class=\"dataframe\">\n",
              "  <thead>\n",
              "    <tr style=\"text-align: right;\">\n",
              "      <th></th>\n",
              "      <th>baş ağrısı</th>\n",
              "      <th>bulanık görme</th>\n",
              "      <th>burun kanaması</th>\n",
              "      <th>düzensiz kalp ritmi</th>\n",
              "      <th>göğüs ağrısı</th>\n",
              "      <th>göğüste baskı</th>\n",
              "      <th>idrarda kan</th>\n",
              "      <th>nefes darlığı</th>\n",
              "      <th>ciltte kırmızlık</th>\n",
              "      <th>kaşıntı</th>\n",
              "      <th>...</th>\n",
              "      <th>öğün atlamak</th>\n",
              "      <th>şiş boğaz</th>\n",
              "      <th>hafıza kaybı</th>\n",
              "      <th>ruh hali değişimleri</th>\n",
              "      <th>kanlı balgam</th>\n",
              "      <th>ağız içinde yumru</th>\n",
              "      <th>ağızda uyuşma</th>\n",
              "      <th>gevşek diş</th>\n",
              "      <th>iyileşmeyen ağız yarası</th>\n",
              "      <th>koyu cilt</th>\n",
              "    </tr>\n",
              "    <tr>\n",
              "      <th>hastalik</th>\n",
              "      <th></th>\n",
              "      <th></th>\n",
              "      <th></th>\n",
              "      <th></th>\n",
              "      <th></th>\n",
              "      <th></th>\n",
              "      <th></th>\n",
              "      <th></th>\n",
              "      <th></th>\n",
              "      <th></th>\n",
              "      <th></th>\n",
              "      <th></th>\n",
              "      <th></th>\n",
              "      <th></th>\n",
              "      <th></th>\n",
              "      <th></th>\n",
              "      <th></th>\n",
              "      <th></th>\n",
              "      <th></th>\n",
              "      <th></th>\n",
              "      <th></th>\n",
              "    </tr>\n",
              "  </thead>\n",
              "  <tbody>\n",
              "    <tr>\n",
              "      <th>addison</th>\n",
              "      <td>0</td>\n",
              "      <td>0</td>\n",
              "      <td>0</td>\n",
              "      <td>0</td>\n",
              "      <td>0</td>\n",
              "      <td>0</td>\n",
              "      <td>0</td>\n",
              "      <td>0</td>\n",
              "      <td>0</td>\n",
              "      <td>0</td>\n",
              "      <td>...</td>\n",
              "      <td>0</td>\n",
              "      <td>0</td>\n",
              "      <td>0</td>\n",
              "      <td>0</td>\n",
              "      <td>0</td>\n",
              "      <td>0</td>\n",
              "      <td>0</td>\n",
              "      <td>0</td>\n",
              "      <td>0</td>\n",
              "      <td>0</td>\n",
              "    </tr>\n",
              "    <tr>\n",
              "      <th>addison</th>\n",
              "      <td>0</td>\n",
              "      <td>0</td>\n",
              "      <td>0</td>\n",
              "      <td>0</td>\n",
              "      <td>0</td>\n",
              "      <td>0</td>\n",
              "      <td>0</td>\n",
              "      <td>0</td>\n",
              "      <td>0</td>\n",
              "      <td>0</td>\n",
              "      <td>...</td>\n",
              "      <td>0</td>\n",
              "      <td>0</td>\n",
              "      <td>0</td>\n",
              "      <td>0</td>\n",
              "      <td>0</td>\n",
              "      <td>0</td>\n",
              "      <td>0</td>\n",
              "      <td>0</td>\n",
              "      <td>0</td>\n",
              "      <td>0</td>\n",
              "    </tr>\n",
              "    <tr>\n",
              "      <th>addison</th>\n",
              "      <td>0</td>\n",
              "      <td>0</td>\n",
              "      <td>0</td>\n",
              "      <td>0</td>\n",
              "      <td>0</td>\n",
              "      <td>0</td>\n",
              "      <td>0</td>\n",
              "      <td>0</td>\n",
              "      <td>0</td>\n",
              "      <td>0</td>\n",
              "      <td>...</td>\n",
              "      <td>0</td>\n",
              "      <td>0</td>\n",
              "      <td>0</td>\n",
              "      <td>0</td>\n",
              "      <td>0</td>\n",
              "      <td>0</td>\n",
              "      <td>0</td>\n",
              "      <td>0</td>\n",
              "      <td>0</td>\n",
              "      <td>1</td>\n",
              "    </tr>\n",
              "    <tr>\n",
              "      <th>addison</th>\n",
              "      <td>0</td>\n",
              "      <td>0</td>\n",
              "      <td>0</td>\n",
              "      <td>0</td>\n",
              "      <td>0</td>\n",
              "      <td>0</td>\n",
              "      <td>0</td>\n",
              "      <td>0</td>\n",
              "      <td>0</td>\n",
              "      <td>0</td>\n",
              "      <td>...</td>\n",
              "      <td>0</td>\n",
              "      <td>0</td>\n",
              "      <td>0</td>\n",
              "      <td>0</td>\n",
              "      <td>0</td>\n",
              "      <td>0</td>\n",
              "      <td>0</td>\n",
              "      <td>0</td>\n",
              "      <td>0</td>\n",
              "      <td>0</td>\n",
              "    </tr>\n",
              "    <tr>\n",
              "      <th>addison</th>\n",
              "      <td>0</td>\n",
              "      <td>0</td>\n",
              "      <td>0</td>\n",
              "      <td>0</td>\n",
              "      <td>0</td>\n",
              "      <td>0</td>\n",
              "      <td>0</td>\n",
              "      <td>0</td>\n",
              "      <td>0</td>\n",
              "      <td>0</td>\n",
              "      <td>...</td>\n",
              "      <td>0</td>\n",
              "      <td>0</td>\n",
              "      <td>0</td>\n",
              "      <td>0</td>\n",
              "      <td>0</td>\n",
              "      <td>0</td>\n",
              "      <td>0</td>\n",
              "      <td>0</td>\n",
              "      <td>0</td>\n",
              "      <td>1</td>\n",
              "    </tr>\n",
              "  </tbody>\n",
              "</table>\n",
              "<p>5 rows × 199 columns</p>\n",
              "</div>\n",
              "      <button class=\"colab-df-convert\" onclick=\"convertToInteractive('df-67c7f1dd-541f-4242-92a5-d10252cacfdf')\"\n",
              "              title=\"Convert this dataframe to an interactive table.\"\n",
              "              style=\"display:none;\">\n",
              "        \n",
              "  <svg xmlns=\"http://www.w3.org/2000/svg\" height=\"24px\"viewBox=\"0 0 24 24\"\n",
              "       width=\"24px\">\n",
              "    <path d=\"M0 0h24v24H0V0z\" fill=\"none\"/>\n",
              "    <path d=\"M18.56 5.44l.94 2.06.94-2.06 2.06-.94-2.06-.94-.94-2.06-.94 2.06-2.06.94zm-11 1L8.5 8.5l.94-2.06 2.06-.94-2.06-.94L8.5 2.5l-.94 2.06-2.06.94zm10 10l.94 2.06.94-2.06 2.06-.94-2.06-.94-.94-2.06-.94 2.06-2.06.94z\"/><path d=\"M17.41 7.96l-1.37-1.37c-.4-.4-.92-.59-1.43-.59-.52 0-1.04.2-1.43.59L10.3 9.45l-7.72 7.72c-.78.78-.78 2.05 0 2.83L4 21.41c.39.39.9.59 1.41.59.51 0 1.02-.2 1.41-.59l7.78-7.78 2.81-2.81c.8-.78.8-2.07 0-2.86zM5.41 20L4 18.59l7.72-7.72 1.47 1.35L5.41 20z\"/>\n",
              "  </svg>\n",
              "      </button>\n",
              "      \n",
              "  <style>\n",
              "    .colab-df-container {\n",
              "      display:flex;\n",
              "      flex-wrap:wrap;\n",
              "      gap: 12px;\n",
              "    }\n",
              "\n",
              "    .colab-df-convert {\n",
              "      background-color: #E8F0FE;\n",
              "      border: none;\n",
              "      border-radius: 50%;\n",
              "      cursor: pointer;\n",
              "      display: none;\n",
              "      fill: #1967D2;\n",
              "      height: 32px;\n",
              "      padding: 0 0 0 0;\n",
              "      width: 32px;\n",
              "    }\n",
              "\n",
              "    .colab-df-convert:hover {\n",
              "      background-color: #E2EBFA;\n",
              "      box-shadow: 0px 1px 2px rgba(60, 64, 67, 0.3), 0px 1px 3px 1px rgba(60, 64, 67, 0.15);\n",
              "      fill: #174EA6;\n",
              "    }\n",
              "\n",
              "    [theme=dark] .colab-df-convert {\n",
              "      background-color: #3B4455;\n",
              "      fill: #D2E3FC;\n",
              "    }\n",
              "\n",
              "    [theme=dark] .colab-df-convert:hover {\n",
              "      background-color: #434B5C;\n",
              "      box-shadow: 0px 1px 3px 1px rgba(0, 0, 0, 0.15);\n",
              "      filter: drop-shadow(0px 1px 2px rgba(0, 0, 0, 0.3));\n",
              "      fill: #FFFFFF;\n",
              "    }\n",
              "  </style>\n",
              "\n",
              "      <script>\n",
              "        const buttonEl =\n",
              "          document.querySelector('#df-67c7f1dd-541f-4242-92a5-d10252cacfdf button.colab-df-convert');\n",
              "        buttonEl.style.display =\n",
              "          google.colab.kernel.accessAllowed ? 'block' : 'none';\n",
              "\n",
              "        async function convertToInteractive(key) {\n",
              "          const element = document.querySelector('#df-67c7f1dd-541f-4242-92a5-d10252cacfdf');\n",
              "          const dataTable =\n",
              "            await google.colab.kernel.invokeFunction('convertToInteractive',\n",
              "                                                     [key], {});\n",
              "          if (!dataTable) return;\n",
              "\n",
              "          const docLinkHtml = 'Like what you see? Visit the ' +\n",
              "            '<a target=\"_blank\" href=https://colab.research.google.com/notebooks/data_table.ipynb>data table notebook</a>'\n",
              "            + ' to learn more about interactive tables.';\n",
              "          element.innerHTML = '';\n",
              "          dataTable['output_type'] = 'display_data';\n",
              "          await google.colab.output.renderOutput(dataTable, element);\n",
              "          const docLink = document.createElement('div');\n",
              "          docLink.innerHTML = docLinkHtml;\n",
              "          element.appendChild(docLink);\n",
              "        }\n",
              "      </script>\n",
              "    </div>\n",
              "  </div>\n",
              "  "
            ]
          },
          "metadata": {},
          "execution_count": 3
        }
      ]
    },
    {
      "cell_type": "markdown",
      "source": [
        "## 1.2 Verinin Düzenlenmesi\n",
        "\n",
        "1. Veri semptomlar ve tahmin edilmesi gereken hastalık olarak ayrıldı. \n",
        "\n",
        "2. Hastalık verisi string formatında olduğundan makine öğrenmesi algoritmasına girdi olarak verilebilmesi için float tipine dönüştürülmelidir. Bu dönüşüm **label encoder** kullanılarak yapıldı. Label encoder, n toplam hastalık sayısı olmak üzere 1'den n'e her bir hastalığı bir sayı ile eşleştirir. \n",
        "\n",
        "3. Veri eğitim (%70) ve test (%30) olmak üzere ayrıldı. "
      ],
      "metadata": {
        "id": "UjYl0TEGqkcC"
      }
    },
    {
      "cell_type": "code",
      "source": [
        "semptomlar = veri_komb.iloc[:, 0:-1]\n",
        "hastalik_string = veri_komb.hastalik"
      ],
      "metadata": {
        "id": "qcOHSMvnaoNF"
      },
      "execution_count": null,
      "outputs": []
    },
    {
      "cell_type": "code",
      "source": [
        "le = LabelEncoder()\n",
        "le.fit(hastalik_string.tolist())\n",
        "hastalik = le.transform(hastalik_string)"
      ],
      "metadata": {
        "id": "p6Zi5lqhcgVT"
      },
      "execution_count": null,
      "outputs": []
    },
    {
      "cell_type": "code",
      "source": [
        "X_train, X_test, y_train, y_test = train_test_split(semptomlar, hastalik, test_size=0.3, random_state=42)"
      ],
      "metadata": {
        "id": "gRdc3dTwat1b"
      },
      "execution_count": null,
      "outputs": []
    },
    {
      "cell_type": "markdown",
      "source": [
        "## 1.3 Modellerin Kurulması\n",
        "\n",
        "Tezimizde [en yaygın kullanılan 5 sınıflandırma modeli,](https://monkeylearn.com/blog/classification-algorithms/) random forest ve yapay sinir ağı modelini kuracağız. \n",
        "\n",
        "Son olarak modeller arasından chatbot uygulamamızda kullanmak üzere modelimizi seçip kaydedeceğiz. \n",
        "\n",
        "Kuracağımız modeller şunlardır:\n",
        "\n",
        "1. Logistic Regression\n",
        "2. Naive Bayes\n",
        "3. K-Nearest Neighbors\n",
        "4. Decision Tree\n",
        "5. Random Forest\n",
        "6. Support Vector Machines\n",
        "7. Multi-layer Perceptron Classifier\n",
        "\n",
        "1.4 bölümünde modeller arası başarı karşılaştırılacağından test, train accuracy değerleri her bir model için listede saklanacaktır.\n"
      ],
      "metadata": {
        "id": "YjxkIBeyryEx"
      }
    },
    {
      "cell_type": "code",
      "source": [
        "train_accuracy = []\n",
        "test_accuracy = []"
      ],
      "metadata": {
        "id": "to-SzlIbJaCw"
      },
      "execution_count": null,
      "outputs": []
    },
    {
      "cell_type": "markdown",
      "source": [
        "### 1.3.1 Logistic Regression\n",
        "\n",
        "Logistic regression iki sınıf içeren verileri sınıflandırmada kullanılır. Bizim verimiz ise 76 sınıf bulundurmaktadır. Bu yüzden bu sınıflandırma türünün ikiden fazla sınıf için genişletilmiş hali olan **multinomial logistic regression (softmax regression)** kullanılacaktır. \n",
        "\n",
        "\n",
        "Softmax regression her bir veri için çıktı olarak toplam değeri 1 olup 76 satırdan oluşan bir olasılık vektörü döndürür. En yüksek değer sınıflandırılan sınıf olur. \n",
        "\n",
        "Pipeline içerisinde sırasıyla StandardScaler, PCA ve logistic regression modelimiz bulunmaktadır.\n",
        "\n",
        "StandardScaler ile aykırı (outlier) değerleri kaldırıp verilerin ortalamasını 0 standart sapmasını 1 yaparak ölçekleriz. \n",
        "\n",
        "Bunu yapmamız nedeni değişkenlerin modele eşit katkı yapmasını sağlamak ve yanlılık (bias) oluşumunun önüne geçmektir."
      ],
      "metadata": {
        "id": "71w8asFOtesx"
      }
    },
    {
      "cell_type": "code",
      "source": [
        "std_slc = StandardScaler()"
      ],
      "metadata": {
        "id": "PzoBDpxPhETu"
      },
      "execution_count": null,
      "outputs": []
    },
    {
      "cell_type": "markdown",
      "source": [
        "\n",
        "PCA (Principal Component Analysis) orijinal verilerin varyansının çoğuna sahip yeni özellikler oluşturur böylece özelliklerimizin boyutunu azaltır. PCA özellikle verimiz fazla boyutlu olduğunda yaratacağı gürültü ve zorluğu aşmakta yani **curse of dimensionality** problemini aşmamızda bize yardımcı olur. "
      ],
      "metadata": {
        "id": "DySF-s4QkkeM"
      }
    },
    {
      "cell_type": "code",
      "source": [
        "pca = decomposition.PCA()"
      ],
      "metadata": {
        "id": "S6eTd3ZGk4xw"
      },
      "execution_count": null,
      "outputs": []
    },
    {
      "cell_type": "markdown",
      "source": [
        "Modelimizi bir **pipeline** içinde kuruyoruz. Pipeline içerisinde sırasıyla hangi fonksiyonları çalıştırmamız gerektiğini belirtiyoruz. \n",
        "\n"
      ],
      "metadata": {
        "id": "7U_jEf_-lCiR"
      }
    },
    {
      "cell_type": "code",
      "source": [
        "def pipeline(model):\n",
        "  pipe = Pipeline(steps=[('std_slc', std_slc),\n",
        "                       ('pca', pca),\n",
        "                       ('model', model)])\n",
        "  return pipe"
      ],
      "metadata": {
        "id": "w-Tzn3iIGSiY"
      },
      "execution_count": null,
      "outputs": []
    },
    {
      "cell_type": "code",
      "source": [
        "logistic_reg = LogisticRegression(multi_class='multinomial', solver='saga', max_iter=100)\n",
        "\n",
        "pipe = pipeline(logistic_reg)"
      ],
      "metadata": {
        "id": "8LENdqVglBzw"
      },
      "execution_count": null,
      "outputs": []
    },
    {
      "cell_type": "code",
      "source": [
        "pipe.fit(X_train, y_train)\n",
        "y_predLR = pipe.predict(X_test)"
      ],
      "metadata": {
        "id": "3atNFBem5imF",
        "colab": {
          "base_uri": "https://localhost:8080/"
        },
        "outputId": "3acc55aa-fefa-4522-bfdf-fbfc22b027e4"
      },
      "execution_count": null,
      "outputs": [
        {
          "output_type": "stream",
          "name": "stderr",
          "text": [
            "/usr/local/lib/python3.7/dist-packages/sklearn/linear_model/_sag.py:329: ConvergenceWarning: The max_iter was reached which means the coef_ did not converge\n",
            "  \"the coef_ did not converge\", ConvergenceWarning)\n"
          ]
        }
      ]
    },
    {
      "cell_type": "code",
      "source": [
        "lr_train_accuracy = accuracy_score(y_train, pipe.predict(X_train))\n",
        "lr_test_accuracy = accuracy_score(y_test, y_predLR)\n",
        "\n",
        "train_accuracy.append(lr_train_accuracy)\n",
        "test_accuracy.append(lr_test_accuracy)\n",
        "\n",
        "print(\"Train Accuracy: \", lr_train_accuracy)\n",
        "print(\"Test Accuracy: \", lr_test_accuracy)"
      ],
      "metadata": {
        "colab": {
          "base_uri": "https://localhost:8080/"
        },
        "id": "QAPa4M0c6ou9",
        "outputId": "3a79205b-047a-4997-fa17-9171c08f3ebc"
      },
      "execution_count": null,
      "outputs": [
        {
          "output_type": "stream",
          "name": "stdout",
          "text": [
            "Train Accuracy:  0.9448979591836735\n",
            "Test Accuracy:  0.9219047619047619\n"
          ]
        }
      ]
    },
    {
      "cell_type": "markdown",
      "source": [
        "### 1.3.2 Naive Bayes"
      ],
      "metadata": {
        "id": "JqSE_XvZtixW"
      }
    },
    {
      "cell_type": "code",
      "source": [
        "naive_bayes = GaussianNB()\n",
        "pipe = pipeline(naive_bayes)\n",
        "\n",
        "pipe.fit(X_train, y_train)\n",
        "y_predNB = pipe.predict(X_test)"
      ],
      "metadata": {
        "id": "BxiLu1WnAtY1"
      },
      "execution_count": null,
      "outputs": []
    },
    {
      "cell_type": "code",
      "source": [
        "nb_train_accuracy = accuracy_score(y_train, pipe.predict(X_train))\n",
        "nb_test_accuracy = accuracy_score(y_test, y_predNB)\n",
        "\n",
        "train_accuracy.append(nb_train_accuracy)\n",
        "test_accuracy.append(nb_test_accuracy)\n",
        "\n",
        "print(\"Train Accuracy: \", nb_train_accuracy)\n",
        "print(\"Test Accuracy: \", nb_test_accuracy)"
      ],
      "metadata": {
        "colab": {
          "base_uri": "https://localhost:8080/"
        },
        "id": "iwer5j-Cw3xd",
        "outputId": "37c58cd1-93c1-461d-e5e7-bde30c5ab541"
      },
      "execution_count": null,
      "outputs": [
        {
          "output_type": "stream",
          "name": "stdout",
          "text": [
            "Train Accuracy:  0.94\n",
            "Test Accuracy:  0.9242857142857143\n"
          ]
        }
      ]
    },
    {
      "cell_type": "markdown",
      "source": [
        "### 1.3.3 K-Nearest Neighbors"
      ],
      "metadata": {
        "id": "OFSHyQeKtirV"
      }
    },
    {
      "cell_type": "code",
      "source": [
        "knn = KNeighborsClassifier()\n",
        "pipe = pipeline(knn)\n",
        "\n",
        "pipe.fit(X_train, y_train)\n",
        "y_predKNN = pipe.predict(X_test)"
      ],
      "metadata": {
        "id": "nabHzuepE1vM"
      },
      "execution_count": null,
      "outputs": []
    },
    {
      "cell_type": "code",
      "source": [
        "knn_train_accuracy = accuracy_score(y_train, pipe.predict(X_train))\n",
        "knn_test_accuracy = accuracy_score(y_test, y_predKNN)\n",
        "\n",
        "train_accuracy.append(knn_train_accuracy)\n",
        "test_accuracy.append(knn_test_accuracy)\n",
        "\n",
        "print(\"Train Accuracy: \", knn_train_accuracy)\n",
        "print(\"Test Accuracy: \", knn_test_accuracy)"
      ],
      "metadata": {
        "colab": {
          "base_uri": "https://localhost:8080/"
        },
        "id": "GiYiISTZE19N",
        "outputId": "46b19e85-f4c4-4733-a364-cce011d79552"
      },
      "execution_count": null,
      "outputs": [
        {
          "output_type": "stream",
          "name": "stdout",
          "text": [
            "Train Accuracy:  0.9361224489795918\n",
            "Test Accuracy:  0.9057142857142857\n"
          ]
        }
      ]
    },
    {
      "cell_type": "markdown",
      "source": [
        "### 1.3.4 Decision Tree"
      ],
      "metadata": {
        "id": "l9cSUy9Dtiks"
      }
    },
    {
      "cell_type": "code",
      "source": [
        "dt = DecisionTreeClassifier(splitter='best', criterion='entropy', min_samples_leaf=2)\n",
        "pipe = pipeline(dt)\n",
        "\n",
        "pipe.fit(X_train, y_train)\n",
        "y_predDT = pipe.predict(X_test)"
      ],
      "metadata": {
        "id": "AFGl41DRE8kv"
      },
      "execution_count": null,
      "outputs": []
    },
    {
      "cell_type": "code",
      "source": [
        "dt_train_accuracy = accuracy_score(y_train, pipe.predict(X_train))\n",
        "dt_test_accuracy = accuracy_score(y_test, y_predDT)\n",
        "\n",
        "train_accuracy.append(dt_train_accuracy)\n",
        "test_accuracy.append(dt_test_accuracy)\n",
        "\n",
        "print(\"Train Accuracy: \", dt_train_accuracy)\n",
        "print(\"Test Accuracy: \", dt_test_accuracy)"
      ],
      "metadata": {
        "colab": {
          "base_uri": "https://localhost:8080/"
        },
        "id": "ZAycxTkDE8wa",
        "outputId": "e975b279-4f24-4a9b-d16f-668e247e0185"
      },
      "execution_count": null,
      "outputs": [
        {
          "output_type": "stream",
          "name": "stdout",
          "text": [
            "Train Accuracy:  0.9453061224489796\n",
            "Test Accuracy:  0.8704761904761905\n"
          ]
        }
      ]
    },
    {
      "cell_type": "markdown",
      "source": [
        "### 1.3.5 Random Forest"
      ],
      "metadata": {
        "id": "-NAciLxDFha8"
      }
    },
    {
      "cell_type": "code",
      "source": [
        "rf = RandomForestClassifier(criterion='entropy', min_samples_leaf=2)\n",
        "pipe = pipeline(rf)\n",
        "\n",
        "pipe.fit(X_train, y_train)\n",
        "y_predRF = pipe.predict(X_test)"
      ],
      "metadata": {
        "id": "ZthOwXYsFj4T"
      },
      "execution_count": null,
      "outputs": []
    },
    {
      "cell_type": "code",
      "source": [
        "rf_train_accuracy = accuracy_score(y_train, pipe.predict(X_train))\n",
        "rf_test_accuracy = accuracy_score(y_test, y_predRF)\n",
        "\n",
        "train_accuracy.append(rf_train_accuracy)\n",
        "test_accuracy.append(rf_test_accuracy)\n",
        "\n",
        "print(\"Train Accuracy: \", rf_train_accuracy)\n",
        "print(\"Test Accuracy: \", rf_test_accuracy)"
      ],
      "metadata": {
        "colab": {
          "base_uri": "https://localhost:8080/"
        },
        "id": "n-wqZJsgFj1m",
        "outputId": "10956b39-8c2a-470a-804b-98167b6ebdd4"
      },
      "execution_count": null,
      "outputs": [
        {
          "output_type": "stream",
          "name": "stdout",
          "text": [
            "Train Accuracy:  0.9508163265306122\n",
            "Test Accuracy:  0.9080952380952381\n"
          ]
        }
      ]
    },
    {
      "cell_type": "markdown",
      "source": [
        "### 1.3.6 Support Vector Machines"
      ],
      "metadata": {
        "id": "tFqd4QFyticv"
      }
    },
    {
      "cell_type": "code",
      "source": [
        "svc = SVC()\n",
        "pipe = pipeline(svc)\n",
        "\n",
        "pipe.fit(X_train, y_train)\n",
        "y_predSVC = pipe.predict(X_test)"
      ],
      "metadata": {
        "id": "diy5FOBmFXSA"
      },
      "execution_count": null,
      "outputs": []
    },
    {
      "cell_type": "code",
      "source": [
        "svc_train_accuracy = accuracy_score(y_train, pipe.predict(X_train))\n",
        "svc_test_accuracy = accuracy_score(y_test, y_predSVC)\n",
        "\n",
        "train_accuracy.append(svc_train_accuracy)\n",
        "test_accuracy.append(svc_test_accuracy)\n",
        "\n",
        "print(\"Train Accuracy: \", svc_train_accuracy)\n",
        "print(\"Test Accuracy: \", svc_test_accuracy)"
      ],
      "metadata": {
        "colab": {
          "base_uri": "https://localhost:8080/"
        },
        "id": "FEmKph74FXIs",
        "outputId": "7a26518d-8e57-4a56-c8d3-c9bb5d467c83"
      },
      "execution_count": null,
      "outputs": [
        {
          "output_type": "stream",
          "name": "stdout",
          "text": [
            "Train Accuracy:  0.926734693877551\n",
            "Test Accuracy:  0.91\n"
          ]
        }
      ]
    },
    {
      "cell_type": "markdown",
      "source": [
        "### 1.3.7 MLP Classifier"
      ],
      "metadata": {
        "id": "2bHc4_yytiON"
      }
    },
    {
      "cell_type": "code",
      "source": [
        "mlp = MLPClassifier()\n",
        "pipe = pipeline(mlp)\n",
        "\n",
        "pipe.fit(X_train, y_train)\n",
        "y_predMLP = pipe.predict(X_test)"
      ],
      "metadata": {
        "id": "CaH_qL4yHHS-"
      },
      "execution_count": null,
      "outputs": []
    },
    {
      "cell_type": "code",
      "source": [
        "mlp_train_accuracy = accuracy_score(y_train, pipe.predict(X_train))\n",
        "mlp_test_accuracy = accuracy_score(y_test, y_predMLP)\n",
        "\n",
        "train_accuracy.append(mlp_train_accuracy)\n",
        "test_accuracy.append(mlp_test_accuracy)\n",
        "\n",
        "print(\"Train Accuracy: \", mlp_train_accuracy)\n",
        "print(\"Test Accuracy: \", mlp_test_accuracy)"
      ],
      "metadata": {
        "colab": {
          "base_uri": "https://localhost:8080/"
        },
        "id": "uk1-LYGDHHDO",
        "outputId": "1fdfa21e-49d9-4bc9-f882-9010b1c124ea"
      },
      "execution_count": null,
      "outputs": [
        {
          "output_type": "stream",
          "name": "stdout",
          "text": [
            "Train Accuracy:  0.9510204081632653\n",
            "Test Accuracy:  0.9085714285714286\n"
          ]
        }
      ]
    },
    {
      "cell_type": "markdown",
      "source": [
        "## 1.4 Model Başarılarının Yorumlanması"
      ],
      "metadata": {
        "id": "IWsf-ES_toT1"
      }
    },
    {
      "cell_type": "code",
      "source": [
        "n_groups = 7\n",
        "algorithms = ('Logistic Regression', 'Naive Bayes', 'K-Nearest Neighbors', 'Decision Tree', 'Random Forest', 'Support Vector Machines', 'MLP')\n",
        "train_accuracy_perc = [i * 100 for i in train_accuracy]\n",
        "test_accuracy_perc = [i * 100 for i in test_accuracy]\n",
        "\n",
        "fig, ax = plt.subplots(figsize=(15, 5))\n",
        "index = np.arange(n_groups)\n",
        "bar_width = 0.3\n",
        "opacity = 0.8\n",
        "rects1 = plt.bar(index, train_accuracy_perc, bar_width, alpha = opacity, color='Cornflowerblue', label='Train')\n",
        "rects2 = plt.bar(index + bar_width, test_accuracy_perc, bar_width, alpha = opacity, color='Teal', label='Test')\n",
        "plt.xlabel('Algorithm') # x axis label\n",
        "plt.ylabel('Accuracy (%)') # y axis label\n",
        "plt.ylim(0, 115)\n",
        "plt.title('Comparison of Algorithm Accuracies') # plot title\n",
        "plt.xticks(index + bar_width * 0.5, algorithms) # x axis data labels\n",
        "plt.legend(loc = 'upper right') # show legend\n",
        "for index, data in enumerate(train_accuracy_perc):\n",
        "    plt.text(x = index - 0.035, y = data + 1, s = round(data, 2), fontdict = dict(fontsize = 8))\n",
        "for index, data in enumerate(test_accuracy_perc):\n",
        "    plt.text(x = index + 0.25, y = data + 1, s = round(data, 2), fontdict = dict(fontsize = 8))\n",
        "plt.show()"
      ],
      "metadata": {
        "id": "oS7f2nuGfMkP",
        "colab": {
          "base_uri": "https://localhost:8080/",
          "height": 350
        },
        "outputId": "01404128-7ac0-444e-eb70-522dafc555a2"
      },
      "execution_count": null,
      "outputs": [
        {
          "output_type": "display_data",
          "data": {
            "text/plain": [
              "<Figure size 1080x360 with 1 Axes>"
            ],
            "image/png": "[encoded data removed]"
          },
          "metadata": {
            "needs_background": "light"
          }
        }
      ]
    },
    {
      "cell_type": "markdown",
      "source": [
        "## 1.5 Seçilen Modelin Kaydedilmesi"
      ],
      "metadata": {
        "id": "nT5-Cxuob8iz"
      }
    },
    {
      "cell_type": "code",
      "source": [
        "naive_bayes = GaussianNB()\n",
        "pipe = pipeline(naive_bayes)\n",
        "\n",
        "pipe.fit(X_train.values, y_train)"
      ],
      "metadata": {
        "colab": {
          "base_uri": "https://localhost:8080/"
        },
        "id": "C-2Qk4hrz2Wo",
        "outputId": "8f84dd69-899a-46a7-aa6b-de7c54e6eb7e"
      },
      "execution_count": null,
      "outputs": [
        {
          "output_type": "execute_result",
          "data": {
            "text/plain": [
              "Pipeline(steps=[('std_slc', StandardScaler()), ('pca', PCA()),\n",
              "                ('model', GaussianNB())])"
            ]
          },
          "metadata": {},
          "execution_count": 30
        }
      ]
    },
    {
      "cell_type": "code",
      "source": [
        "filename = 'model.sav'\n",
        "pickle.dump(pipe, open(filename, 'wb'))"
      ],
      "metadata": {
        "id": "Ohx7keeVcAO9"
      },
      "execution_count": null,
      "outputs": []
    },
    {
      "cell_type": "markdown",
      "source": [
        "## 1.6 Kullanıcının Girdisi ile Tahmin "
      ],
      "metadata": {
        "id": "PVoAaiVP5qec"
      }
    },
    {
      "cell_type": "code",
      "source": [
        "kayıtlı_semptomlar = veri_komb.columns.values[:-1]\n",
        "       \n",
        "hastalıklar = veri_komb.hastalik.unique()\n",
        "\n",
        "semptom_numarası = {}\n",
        "for index, value in enumerate(kayıtlı_semptomlar):\n",
        "    semptom_numarası[value] = index\n",
        "\n",
        "data_dict = {\n",
        "    \"semptom_numarası\":semptom_numarası,\n",
        "    \"tahmin_sınıfları\":hastalıklar\n",
        "}\n",
        "\n",
        "# Girdi: Virgüller ile ayrılmış semptomlar\n",
        "# Çıktı: Tahmin edilen hastalığın ismi\n",
        "def hastalık_tahmin_et(kayıtlı_semptomlar):\n",
        "\n",
        "    filename = 'model.sav'\n",
        " \n",
        "    # Eğitilmiş modelin yüklenmesi\n",
        "    gs_NB = pickle.load(open(filename, 'rb'))\n",
        "\n",
        "    kayıtlı_semptomlar = kayıtlı_semptomlar.split(\",\")\n",
        "\n",
        "    # Modele uygun girdi verisinin hazırlanması \n",
        "    input_data = [0] * len(data_dict[\"semptom_numarası\"])\n",
        "    for semptom in kayıtlı_semptomlar:\n",
        "        index = data_dict[\"semptom_numarası\"][semptom]\n",
        "        input_data[index] = 1\n",
        "        \n",
        "    input_data = np.array(input_data).reshape(1,-1)\n",
        "    \n",
        "    tahmin = data_dict[\"tahmin_sınıfları\"][gs_NB.predict(input_data)[0]]\n",
        "\n",
        "    return tahmin"
      ],
      "metadata": {
        "id": "gd9HMi0JZaW_"
      },
      "execution_count": null,
      "outputs": []
    },
    {
      "cell_type": "code",
      "source": [
        "print(\"Tahmin edilen hastalık: \", hastalık_tahmin_et(\"öksürük,ateş,baş ağrısı\"))"
      ],
      "metadata": {
        "colab": {
          "base_uri": "https://localhost:8080/"
        },
        "id": "WSZaQkF46AKS",
        "outputId": "52636d80-e0b6-4aa2-ebef-49349176ea60"
      },
      "execution_count": null,
      "outputs": [
        {
          "output_type": "stream",
          "name": "stdout",
          "text": [
            "Tahmin edilen hastalık:  farenjit\n"
          ]
        }
      ]
    }
  ]
}